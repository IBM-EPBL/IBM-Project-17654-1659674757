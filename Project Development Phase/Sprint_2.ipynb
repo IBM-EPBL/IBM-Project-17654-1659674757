{
  "nbformat": 4,
  "nbformat_minor": 0,
  "metadata": {
    "colab": {
      "provenance": []
    },
    "kernelspec": {
      "name": "python3",
      "display_name": "Python 3"
    },
    "language_info": {
      "name": "python"
    }
  },
  "cells": [
    {
      "cell_type": "markdown",
      "source": [
        "**PROJECT DEVELOPMENT SPRINT-2**"
      ],
      "metadata": {
        "id": "1IMMq7jvOjr7"
      }
    },
    {
      "cell_type": "markdown",
      "source": [
        "**1. Importing the required libraries**"
      ],
      "metadata": {
        "id": "HIiCT7wiOrN3"
      }
    },
    {
      "cell_type": "code",
      "execution_count": 1,
      "metadata": {
        "id": "MkuOUkkiGEWu"
      },
      "outputs": [],
      "source": [
        "import numpy as np\n",
        "import tensorflow #open source used for both ML and DL for computation\n",
        "from tensorflow.keras.datasets import mnist #mnist dataset\n",
        "from tensorflow.keras.models import Sequential #it is a plain stack of layers\n",
        "from tensorflow.keras import layers #A Layer consists of a tensor- in tensor-out computat ion funct ion\n",
        "from tensorflow.keras.layers import Dense, Flatten #Dense-Dense Layer is the regular deeply connected r\n",
        "#faltten -used fot flattening the input or change the dimension\n",
        "from tensorflow.keras.layers import Conv2D #onvoLutiona l Layer\n",
        "from keras.optimizers import Adam #opt imizer\n",
        "from keras. utils import np_utils #used for one-hot encoding\n",
        "import matplotlib.pyplot as plt   #used for data visualization"
      ]
    },
    {
      "cell_type": "code",
      "source": [
        "(x_train, y_train), (x_test, y_test)=mnist.load_data ()\n",
        "x_train=x_train.reshape (60000, 28, 28, 1).astype('float32')\n",
        "x_test=x_test.reshape (10000, 28, 28, 1).astype ('float32')\n",
        "number_of_classes = 10  #storing the no of classes in a variable\n",
        "y_train = np_utils.to_categorical (y_train, number_of_classes) #converts the output in binary format\n",
        "y_test = np_utils.to_categorical (y_test, number_of_classes)"
      ],
      "metadata": {
        "colab": {
          "base_uri": "https://localhost:8080/"
        },
        "id": "D3TXobzpGPw4",
        "outputId": "83866feb-675a-494f-c798-4926db45f198"
      },
      "execution_count": 2,
      "outputs": [
        {
          "output_type": "stream",
          "name": "stdout",
          "text": [
            "Downloading data from https://storage.googleapis.com/tensorflow/tf-keras-datasets/mnist.npz\n",
            "11490434/11490434 [==============================] - 0s 0us/step\n"
          ]
        }
      ]
    },
    {
      "cell_type": "markdown",
      "source": [
        "**2. Add CNN Layers**"
      ],
      "metadata": {
        "id": "ZbSM-Ib-PCtr"
      }
    },
    {
      "cell_type": "markdown",
      "source": [
        "Creating the model and adding the input, hidden, and output layers to it. The Sequential model is a linear stack of layers. You can create a Sequential model by passing a list of layer instances to the constructor."
      ],
      "metadata": {
        "id": "O3Y-gRRjPKVo"
      }
    },
    {
      "cell_type": "code",
      "source": [
        "#create model\n",
        "model=Sequential ()\n",
        "#adding modeL Layer\n",
        "model.add(Conv2D(64, (3, 3), input_shape=(28, 28, 1), activation='relu'))\n",
        "model.add(Conv2D(32, (3, 3), activation = 'relu'))\n",
        "#flatten the dimension of the image\n",
        "model.add(Flatten())\n",
        "#output layer with 10 neurons\n",
        "model.add(Dense(number_of_classes,activation = 'softmax'))"
      ],
      "metadata": {
        "id": "0iZkpDQSGdVk"
      },
      "execution_count": 3,
      "outputs": []
    },
    {
      "cell_type": "markdown",
      "source": [
        "**3. Compiling the model**"
      ],
      "metadata": {
        "id": "VsnMBEgTPfFW"
      }
    },
    {
      "cell_type": "markdown",
      "source": [
        "With both the training data defined and model defined, it's time to configure the learning process. This is accomplished with a call to the compile () method of the Sequential model class. Compilation requires 3 arguments: an optimizer, a loss function, and a list of metrics."
      ],
      "metadata": {
        "id": "zM43C_LIPlQF"
      }
    },
    {
      "cell_type": "code",
      "source": [
        "model.compile(loss= 'categorical_crossentropy', optimizer=\"Adam\", metrics=['accuracy'])"
      ],
      "metadata": {
        "id": "XBjbBrhpHH_b"
      },
      "execution_count": 4,
      "outputs": []
    },
    {
      "cell_type": "code",
      "source": [
        "x_train = np.asarray(x_train)\n",
        "y_train = np.asarray(y_train)"
      ],
      "metadata": {
        "id": "daOpe2W8TEW0"
      },
      "execution_count": null,
      "outputs": []
    },
    {
      "cell_type": "markdown",
      "source": [
        "**4. Train the model**"
      ],
      "metadata": {
        "id": "1qSVw0APPyrd"
      }
    },
    {
      "cell_type": "markdown",
      "source": [
        "Validation_data :  \n",
        "*   an inputs and targets list\n",
        "*   a generator\n",
        "*   inputs, targets, and sample_weights list which can be used to evaluate the loss and \n",
        "*   metrics for any model after any epoch has ended."
      ],
      "metadata": {
        "id": "MMtyqd04QFlM"
      }
    },
    {
      "cell_type": "code",
      "source": [
        "model.fit(x_train, y_train, validation_data=(x_test, y_test), epochs=1, batch_size=32)"
      ],
      "metadata": {
        "colab": {
          "base_uri": "https://localhost:8080/"
        },
        "id": "vmd8HcB5H8K9",
        "outputId": "38c04438-5046-4d70-9d30-af57a57d725f"
      },
      "execution_count": 5,
      "outputs": [
        {
          "output_type": "stream",
          "name": "stdout",
          "text": [
            "1875/1875 [==============================] - 194s 103ms/step - loss: 0.2004 - accuracy: 0.9523 - val_loss: 0.0923 - val_accuracy: 0.9731\n"
          ]
        },
        {
          "output_type": "execute_result",
          "data": {
            "text/plain": [
              "<keras.callbacks.History at 0x7fe56642fa10>"
            ]
          },
          "metadata": {},
          "execution_count": 5
        }
      ]
    },
    {
      "cell_type": "markdown",
      "source": [
        "**5. Observing the metrics**"
      ],
      "metadata": {
        "id": "D3rk7k7AQ4Pn"
      }
    },
    {
      "cell_type": "markdown",
      "source": [
        "We here are printing the metrics which lists out the Test loss and Test accuracy.\n",
        "*   Loss value implies how poorly or well a model behaves after each iteration of optimization. \n",
        "*   An accuracy metric is used to measure the algorithm's performance in an interpretable way. "
      ],
      "metadata": {
        "id": "h04pYaecRCPe"
      }
    },
    {
      "cell_type": "code",
      "source": [
        "metrics = model.evaluate(x_test, y_test, verbose=0)\n",
        "print(\"Metrics (Test loss &Test Accuracy) : \")\n",
        "print(metrics)"
      ],
      "metadata": {
        "colab": {
          "base_uri": "https://localhost:8080/"
        },
        "id": "wChpvf24IBx2",
        "outputId": "c84675ce-1ead-4461-ed51-c77bfe8dfa97"
      },
      "execution_count": 6,
      "outputs": [
        {
          "output_type": "stream",
          "name": "stdout",
          "text": [
            "Metrics (Test loss &Test Accuracy) : \n",
            "[0.09234783053398132, 0.9731000065803528]\n"
          ]
        }
      ]
    },
    {
      "cell_type": "markdown",
      "source": [
        "**6. Test the model**"
      ],
      "metadata": {
        "id": "PeGbhXOZRebP"
      }
    },
    {
      "cell_type": "code",
      "source": [
        "prediction=model.predict(x_test[6000:6001])\n",
        "print(prediction)"
      ],
      "metadata": {
        "colab": {
          "base_uri": "https://localhost:8080/"
        },
        "id": "rVNVvAB-IUox",
        "outputId": "67dcd89a-c853-4e2e-f686-776e15ed9330"
      },
      "execution_count": 7,
      "outputs": [
        {
          "output_type": "stream",
          "name": "stdout",
          "text": [
            "1/1 [==============================] - 0s 83ms/step\n",
            "[[9.3592985e-07 2.0251116e-07 2.2286093e-05 7.8581634e-04 7.7928593e-03\n",
            "  3.2239599e-04 3.1324683e-07 1.0817715e-03 7.4228336e-04 9.8925120e-01]]\n"
          ]
        }
      ]
    },
    {
      "cell_type": "code",
      "source": [
        "print(np.argmax(prediction, axis=1))"
      ],
      "metadata": {
        "colab": {
          "base_uri": "https://localhost:8080/"
        },
        "id": "_fNaYhRqSCln",
        "outputId": "53f2954b-bf9c-4c10-d2c2-fe0ba8897c92"
      },
      "execution_count": 8,
      "outputs": [
        {
          "output_type": "stream",
          "name": "stdout",
          "text": [
            "[9]\n"
          ]
        }
      ]
    },
    {
      "cell_type": "code",
      "source": [
        "np.argmax(y_test[6000:6001])"
      ],
      "metadata": {
        "colab": {
          "base_uri": "https://localhost:8080/"
        },
        "id": "_9y51qh5SIYm",
        "outputId": "0a7c271f-3c13-4281-ea9f-607d2a3f4aff"
      },
      "execution_count": 9,
      "outputs": [
        {
          "output_type": "execute_result",
          "data": {
            "text/plain": [
              "9"
            ]
          },
          "metadata": {},
          "execution_count": 9
        }
      ]
    },
    {
      "cell_type": "markdown",
      "source": [
        "**7. Save the model**"
      ],
      "metadata": {
        "id": "G67HKyyfVCfX"
      }
    },
    {
      "cell_type": "markdown",
      "source": [
        "Your model is to be saved for future purposes. This saved model can also be integrated with an android application or web application in order to predict something."
      ],
      "metadata": {
        "id": "mUSMrhraVOH7"
      }
    },
    {
      "cell_type": "code",
      "source": [
        "model.save('models/mnistCNN.h5')"
      ],
      "metadata": {
        "id": "FgKzGVtCJCDF"
      },
      "execution_count": 15,
      "outputs": []
    },
    {
      "cell_type": "markdown",
      "source": [
        "**8. Test with saved model**"
      ],
      "metadata": {
        "id": "ta3o1g4lpEn4"
      }
    },
    {
      "cell_type": "code",
      "source": [
        "import pandas as pd\n",
        "model=load_model(\"models/mnistCNN.h5\")\n",
        "img = Image.open(\"sample.jpeg\").convert(\"L\")\n",
        "img = img.resize((28, 28))\n",
        "img2arr = np.array(img)\n",
        "img2arr = img2arr.reshape(1, 28, 28, 1)\n",
        "results  = model.predict(img2arr)\n",
        "results = np.argmax(results,axis = 1)\n",
        "results = pd.Series(results,name=\"Label\")\n",
        "print(results)"
      ],
      "metadata": {
        "colab": {
          "base_uri": "https://localhost:8080/"
        },
        "id": "MvqFLRaukMww",
        "outputId": "c2c0c8d8-9d41-469e-96b4-869792b66521"
      },
      "execution_count": 21,
      "outputs": [
        {
          "output_type": "stream",
          "name": "stdout",
          "text": [
            "1/1 [==============================] - 0s 76ms/step\n",
            "0    9\n",
            "Name: Label, dtype: int64\n"
          ]
        }
      ]
    }
  ]
}